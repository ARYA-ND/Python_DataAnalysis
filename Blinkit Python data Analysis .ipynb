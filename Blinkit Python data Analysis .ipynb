{
 "cells": [
  {
   "cell_type": "markdown",
   "id": "41e5a038-2d2a-47b6-8212-f624b8079071",
   "metadata": {},
   "source": [
    "# **BlinkIt Data Analysis by Python**"
   ]
  },
  {
   "cell_type": "markdown",
   "id": "11d75777-dd5d-4b19-b72d-8a607ecd9651",
   "metadata": {},
   "source": [
    "###  **Importing the libraries**"
   ]
  },
  {
   "cell_type": "code",
   "execution_count": 3,
   "id": "0ac51aa9-bcd7-4f1c-b59c-cd8a8efa0f27",
   "metadata": {},
   "outputs": [],
   "source": [
    "import pandas as pd\n",
    "import numpy as np\n",
    "from matplotlib import pyplot as plt\n",
    "import seaborn as sns"
   ]
  },
  {
   "cell_type": "markdown",
   "id": "64dee60d-4ee7-4186-a640-ec39f97e9cfb",
   "metadata": {},
   "source": [
    "####  **Reading the file**"
   ]
  },
  {
   "cell_type": "code",
   "execution_count": 5,
   "id": "6f1ece73-cf5f-4a3c-ac35-6ba138870fc2",
   "metadata": {},
   "outputs": [],
   "source": [
    "df =pd.read_csv(r\"C:\\Users\\ndary\\Downloads\\code basics\\python\\Project_BlinkIt\\blinkit_data.csv\")"
   ]
  },
  {
   "cell_type": "markdown",
   "id": "e80b84a3-e21a-4508-afc1-43a5ab0af1d8",
   "metadata": {},
   "source": [
    "####  **Random sample imported from the data frame**"
   ]
  },
  {
   "cell_type": "code",
   "execution_count": 7,
   "id": "d01f8691-fa0b-4bd4-a17b-b1edf367d53f",
   "metadata": {},
   "outputs": [
    {
     "data": {
      "text/html": [
       "<div>\n",
       "<style scoped>\n",
       "    .dataframe tbody tr th:only-of-type {\n",
       "        vertical-align: middle;\n",
       "    }\n",
       "\n",
       "    .dataframe tbody tr th {\n",
       "        vertical-align: top;\n",
       "    }\n",
       "\n",
       "    .dataframe thead th {\n",
       "        text-align: right;\n",
       "    }\n",
       "</style>\n",
       "<table border=\"1\" class=\"dataframe\">\n",
       "  <thead>\n",
       "    <tr style=\"text-align: right;\">\n",
       "      <th></th>\n",
       "      <th>Item Fat Content</th>\n",
       "      <th>Item Identifier</th>\n",
       "      <th>Item Type</th>\n",
       "      <th>Outlet Establishment Year</th>\n",
       "      <th>Outlet Identifier</th>\n",
       "      <th>Outlet Location Type</th>\n",
       "      <th>Outlet Size</th>\n",
       "      <th>Outlet Type</th>\n",
       "      <th>Item Visibility</th>\n",
       "      <th>Item Weight</th>\n",
       "      <th>Sales</th>\n",
       "      <th>Rating</th>\n",
       "    </tr>\n",
       "  </thead>\n",
       "  <tbody>\n",
       "    <tr>\n",
       "      <th>6426</th>\n",
       "      <td>LF</td>\n",
       "      <td>NCX30</td>\n",
       "      <td>Household</td>\n",
       "      <td>1998</td>\n",
       "      <td>OUT019</td>\n",
       "      <td>Tier 1</td>\n",
       "      <td>Small</td>\n",
       "      <td>Grocery Store</td>\n",
       "      <td>0.046609</td>\n",
       "      <td>NaN</td>\n",
       "      <td>248.6776</td>\n",
       "      <td>4.0</td>\n",
       "    </tr>\n",
       "    <tr>\n",
       "      <th>7372</th>\n",
       "      <td>Low Fat</td>\n",
       "      <td>FDC39</td>\n",
       "      <td>Dairy</td>\n",
       "      <td>2017</td>\n",
       "      <td>OUT035</td>\n",
       "      <td>Tier 2</td>\n",
       "      <td>Small</td>\n",
       "      <td>Supermarket Type1</td>\n",
       "      <td>0.159165</td>\n",
       "      <td>7.405</td>\n",
       "      <td>207.1296</td>\n",
       "      <td>4.0</td>\n",
       "    </tr>\n",
       "    <tr>\n",
       "      <th>4753</th>\n",
       "      <td>Low Fat</td>\n",
       "      <td>FDB27</td>\n",
       "      <td>Dairy</td>\n",
       "      <td>2010</td>\n",
       "      <td>OUT046</td>\n",
       "      <td>Tier 1</td>\n",
       "      <td>Small</td>\n",
       "      <td>Supermarket Type1</td>\n",
       "      <td>0.055390</td>\n",
       "      <td>7.575</td>\n",
       "      <td>195.2768</td>\n",
       "      <td>3.5</td>\n",
       "    </tr>\n",
       "    <tr>\n",
       "      <th>2993</th>\n",
       "      <td>Low Fat</td>\n",
       "      <td>FDR23</td>\n",
       "      <td>Breads</td>\n",
       "      <td>2011</td>\n",
       "      <td>OUT010</td>\n",
       "      <td>Tier 3</td>\n",
       "      <td>Medium</td>\n",
       "      <td>Grocery Store</td>\n",
       "      <td>0.136896</td>\n",
       "      <td>15.850</td>\n",
       "      <td>176.4370</td>\n",
       "      <td>4.1</td>\n",
       "    </tr>\n",
       "    <tr>\n",
       "      <th>7197</th>\n",
       "      <td>Regular</td>\n",
       "      <td>FDY28</td>\n",
       "      <td>Frozen Foods</td>\n",
       "      <td>2015</td>\n",
       "      <td>OUT045</td>\n",
       "      <td>Tier 2</td>\n",
       "      <td>High</td>\n",
       "      <td>Supermarket Type1</td>\n",
       "      <td>0.000000</td>\n",
       "      <td>7.470</td>\n",
       "      <td>211.8218</td>\n",
       "      <td>4.0</td>\n",
       "    </tr>\n",
       "  </tbody>\n",
       "</table>\n",
       "</div>"
      ],
      "text/plain": [
       "     Item Fat Content Item Identifier     Item Type  \\\n",
       "6426               LF           NCX30     Household   \n",
       "7372          Low Fat           FDC39         Dairy   \n",
       "4753          Low Fat           FDB27         Dairy   \n",
       "2993          Low Fat           FDR23        Breads   \n",
       "7197          Regular           FDY28  Frozen Foods   \n",
       "\n",
       "      Outlet Establishment Year Outlet Identifier Outlet Location Type  \\\n",
       "6426                       1998            OUT019               Tier 1   \n",
       "7372                       2017            OUT035               Tier 2   \n",
       "4753                       2010            OUT046               Tier 1   \n",
       "2993                       2011            OUT010               Tier 3   \n",
       "7197                       2015            OUT045               Tier 2   \n",
       "\n",
       "     Outlet Size        Outlet Type  Item Visibility  Item Weight     Sales  \\\n",
       "6426       Small      Grocery Store         0.046609          NaN  248.6776   \n",
       "7372       Small  Supermarket Type1         0.159165        7.405  207.1296   \n",
       "4753       Small  Supermarket Type1         0.055390        7.575  195.2768   \n",
       "2993      Medium      Grocery Store         0.136896       15.850  176.4370   \n",
       "7197        High  Supermarket Type1         0.000000        7.470  211.8218   \n",
       "\n",
       "      Rating  \n",
       "6426     4.0  \n",
       "7372     4.0  \n",
       "4753     3.5  \n",
       "2993     4.1  \n",
       "7197     4.0  "
      ]
     },
     "execution_count": 7,
     "metadata": {},
     "output_type": "execute_result"
    }
   ],
   "source": [
    "df.sample(5)"
   ]
  },
  {
   "cell_type": "markdown",
   "id": "fe3f8ca1-c3a0-4ee2-acbd-609fafb93817",
   "metadata": {},
   "source": [
    "#####  **Starting 5 records  of the data frame using head func**"
   ]
  },
  {
   "cell_type": "code",
   "execution_count": 9,
   "id": "8232bab1-e244-443e-8110-eac9f5e06fea",
   "metadata": {},
   "outputs": [
    {
     "data": {
      "text/html": [
       "<div>\n",
       "<style scoped>\n",
       "    .dataframe tbody tr th:only-of-type {\n",
       "        vertical-align: middle;\n",
       "    }\n",
       "\n",
       "    .dataframe tbody tr th {\n",
       "        vertical-align: top;\n",
       "    }\n",
       "\n",
       "    .dataframe thead th {\n",
       "        text-align: right;\n",
       "    }\n",
       "</style>\n",
       "<table border=\"1\" class=\"dataframe\">\n",
       "  <thead>\n",
       "    <tr style=\"text-align: right;\">\n",
       "      <th></th>\n",
       "      <th>Item Fat Content</th>\n",
       "      <th>Item Identifier</th>\n",
       "      <th>Item Type</th>\n",
       "      <th>Outlet Establishment Year</th>\n",
       "      <th>Outlet Identifier</th>\n",
       "      <th>Outlet Location Type</th>\n",
       "      <th>Outlet Size</th>\n",
       "      <th>Outlet Type</th>\n",
       "      <th>Item Visibility</th>\n",
       "      <th>Item Weight</th>\n",
       "      <th>Sales</th>\n",
       "      <th>Rating</th>\n",
       "    </tr>\n",
       "  </thead>\n",
       "  <tbody>\n",
       "    <tr>\n",
       "      <th>0</th>\n",
       "      <td>Regular</td>\n",
       "      <td>FDX32</td>\n",
       "      <td>Fruits and Vegetables</td>\n",
       "      <td>2012</td>\n",
       "      <td>OUT049</td>\n",
       "      <td>Tier 1</td>\n",
       "      <td>Medium</td>\n",
       "      <td>Supermarket Type1</td>\n",
       "      <td>0.100014</td>\n",
       "      <td>15.10</td>\n",
       "      <td>145.4786</td>\n",
       "      <td>5.0</td>\n",
       "    </tr>\n",
       "    <tr>\n",
       "      <th>1</th>\n",
       "      <td>Low Fat</td>\n",
       "      <td>NCB42</td>\n",
       "      <td>Health and Hygiene</td>\n",
       "      <td>2022</td>\n",
       "      <td>OUT018</td>\n",
       "      <td>Tier 3</td>\n",
       "      <td>Medium</td>\n",
       "      <td>Supermarket Type2</td>\n",
       "      <td>0.008596</td>\n",
       "      <td>11.80</td>\n",
       "      <td>115.3492</td>\n",
       "      <td>5.0</td>\n",
       "    </tr>\n",
       "    <tr>\n",
       "      <th>2</th>\n",
       "      <td>Regular</td>\n",
       "      <td>FDR28</td>\n",
       "      <td>Frozen Foods</td>\n",
       "      <td>2010</td>\n",
       "      <td>OUT046</td>\n",
       "      <td>Tier 1</td>\n",
       "      <td>Small</td>\n",
       "      <td>Supermarket Type1</td>\n",
       "      <td>0.025896</td>\n",
       "      <td>13.85</td>\n",
       "      <td>165.0210</td>\n",
       "      <td>5.0</td>\n",
       "    </tr>\n",
       "    <tr>\n",
       "      <th>3</th>\n",
       "      <td>Regular</td>\n",
       "      <td>FDL50</td>\n",
       "      <td>Canned</td>\n",
       "      <td>2000</td>\n",
       "      <td>OUT013</td>\n",
       "      <td>Tier 3</td>\n",
       "      <td>High</td>\n",
       "      <td>Supermarket Type1</td>\n",
       "      <td>0.042278</td>\n",
       "      <td>12.15</td>\n",
       "      <td>126.5046</td>\n",
       "      <td>5.0</td>\n",
       "    </tr>\n",
       "    <tr>\n",
       "      <th>4</th>\n",
       "      <td>Low Fat</td>\n",
       "      <td>DRI25</td>\n",
       "      <td>Soft Drinks</td>\n",
       "      <td>2015</td>\n",
       "      <td>OUT045</td>\n",
       "      <td>Tier 2</td>\n",
       "      <td>Small</td>\n",
       "      <td>Supermarket Type1</td>\n",
       "      <td>0.033970</td>\n",
       "      <td>19.60</td>\n",
       "      <td>55.1614</td>\n",
       "      <td>5.0</td>\n",
       "    </tr>\n",
       "  </tbody>\n",
       "</table>\n",
       "</div>"
      ],
      "text/plain": [
       "  Item Fat Content Item Identifier              Item Type  \\\n",
       "0          Regular           FDX32  Fruits and Vegetables   \n",
       "1          Low Fat           NCB42     Health and Hygiene   \n",
       "2          Regular           FDR28           Frozen Foods   \n",
       "3          Regular           FDL50                 Canned   \n",
       "4          Low Fat           DRI25            Soft Drinks   \n",
       "\n",
       "   Outlet Establishment Year Outlet Identifier Outlet Location Type  \\\n",
       "0                       2012            OUT049               Tier 1   \n",
       "1                       2022            OUT018               Tier 3   \n",
       "2                       2010            OUT046               Tier 1   \n",
       "3                       2000            OUT013               Tier 3   \n",
       "4                       2015            OUT045               Tier 2   \n",
       "\n",
       "  Outlet Size        Outlet Type  Item Visibility  Item Weight     Sales  \\\n",
       "0      Medium  Supermarket Type1         0.100014        15.10  145.4786   \n",
       "1      Medium  Supermarket Type2         0.008596        11.80  115.3492   \n",
       "2       Small  Supermarket Type1         0.025896        13.85  165.0210   \n",
       "3        High  Supermarket Type1         0.042278        12.15  126.5046   \n",
       "4       Small  Supermarket Type1         0.033970        19.60   55.1614   \n",
       "\n",
       "   Rating  \n",
       "0     5.0  \n",
       "1     5.0  \n",
       "2     5.0  \n",
       "3     5.0  \n",
       "4     5.0  "
      ]
     },
     "execution_count": 9,
     "metadata": {},
     "output_type": "execute_result"
    }
   ],
   "source": [
    "df.head()"
   ]
  },
  {
   "cell_type": "markdown",
   "id": "bfd16a9c-2063-4e93-b2a4-048989f91621",
   "metadata": {},
   "source": [
    "##### **Statistical view of sales column to get the overview of data and find the outliers**"
   ]
  },
  {
   "cell_type": "code",
   "execution_count": 11,
   "id": "2846cfb7-d0cc-4ca9-be71-824c01b19265",
   "metadata": {},
   "outputs": [
    {
     "data": {
      "text/plain": [
       "count    8523.000000\n",
       "mean      140.992782\n",
       "std        62.275067\n",
       "min        31.290000\n",
       "25%        93.826500\n",
       "50%       143.012800\n",
       "75%       185.643700\n",
       "max       266.888400\n",
       "Name: Sales, dtype: float64"
      ]
     },
     "execution_count": 11,
     "metadata": {},
     "output_type": "execute_result"
    }
   ],
   "source": [
    "df.Sales.describe()"
   ]
  },
  {
   "cell_type": "markdown",
   "id": "8afd7246-4811-4523-adc5-eec60e63c140",
   "metadata": {},
   "source": [
    "#####  **Finding some missing values using .isna func in sales column its better to find  in all column**"
   ]
  },
  {
   "cell_type": "code",
   "execution_count": 13,
   "id": "1fcce0c4-87a4-4b33-ba76-5439d8e450e1",
   "metadata": {},
   "outputs": [
    {
     "data": {
      "text/plain": [
       "0       False\n",
       "1       False\n",
       "2       False\n",
       "3       False\n",
       "4       False\n",
       "        ...  \n",
       "8518    False\n",
       "8519    False\n",
       "8520    False\n",
       "8521    False\n",
       "8522    False\n",
       "Name: Sales, Length: 8523, dtype: bool"
      ]
     },
     "execution_count": 13,
     "metadata": {},
     "output_type": "execute_result"
    }
   ],
   "source": [
    "df.Sales.isna()"
   ]
  },
  {
   "cell_type": "markdown",
   "id": "a3e4103b-995f-4072-8f21-1761145a17dc",
   "metadata": {},
   "source": [
    "#####  **Finding some missing values using .isna func in first column its better to find  in all column and doing sum of it to the total na values**"
   ]
  },
  {
   "cell_type": "code",
   "execution_count": 15,
   "id": "6325e2ea-2e4e-4029-9d5e-66d9457412d8",
   "metadata": {},
   "outputs": [
    {
     "data": {
      "text/plain": [
       "0"
      ]
     },
     "execution_count": 15,
     "metadata": {},
     "output_type": "execute_result"
    }
   ],
   "source": [
    "df[\"Item Visibility\"].isna().sum()"
   ]
  },
  {
   "cell_type": "markdown",
   "id": "206f3863-2f27-4237-b58e-5e3dfbbdea7e",
   "metadata": {},
   "source": [
    "#####  **Same as above for Item Weight column**"
   ]
  },
  {
   "cell_type": "code",
   "execution_count": 17,
   "id": "9c519717-4e18-4fa3-9e2b-518ab0ae1536",
   "metadata": {},
   "outputs": [
    {
     "data": {
      "text/plain": [
       "1463"
      ]
     },
     "execution_count": 17,
     "metadata": {},
     "output_type": "execute_result"
    }
   ],
   "source": [
    "df[\"Item Weight\"].isna().sum()"
   ]
  },
  {
   "cell_type": "markdown",
   "id": "22582243-4cd1-4e52-aed5-763489ecd7b7",
   "metadata": {},
   "source": [
    "#####  **Finding the sahpe of the table i.e rows and columns**"
   ]
  },
  {
   "cell_type": "code",
   "execution_count": 19,
   "id": "7ce7cf9c-1f78-4a62-b87f-99bddfe18f37",
   "metadata": {},
   "outputs": [
    {
     "data": {
      "text/plain": [
       "(8523, 12)"
      ]
     },
     "execution_count": 19,
     "metadata": {},
     "output_type": "execute_result"
    }
   ],
   "source": [
    "df.shape"
   ]
  },
  {
   "cell_type": "markdown",
   "id": "2482d044-656a-4303-800f-9c49e8a60091",
   "metadata": {},
   "source": [
    "####  **tail of the table with 10 entries**"
   ]
  },
  {
   "cell_type": "code",
   "execution_count": 21,
   "id": "d1066a57-773c-4aca-9a3d-9e428155c76c",
   "metadata": {},
   "outputs": [
    {
     "data": {
      "text/html": [
       "<div>\n",
       "<style scoped>\n",
       "    .dataframe tbody tr th:only-of-type {\n",
       "        vertical-align: middle;\n",
       "    }\n",
       "\n",
       "    .dataframe tbody tr th {\n",
       "        vertical-align: top;\n",
       "    }\n",
       "\n",
       "    .dataframe thead th {\n",
       "        text-align: right;\n",
       "    }\n",
       "</style>\n",
       "<table border=\"1\" class=\"dataframe\">\n",
       "  <thead>\n",
       "    <tr style=\"text-align: right;\">\n",
       "      <th></th>\n",
       "      <th>Item Fat Content</th>\n",
       "      <th>Item Identifier</th>\n",
       "      <th>Item Type</th>\n",
       "      <th>Outlet Establishment Year</th>\n",
       "      <th>Outlet Identifier</th>\n",
       "      <th>Outlet Location Type</th>\n",
       "      <th>Outlet Size</th>\n",
       "      <th>Outlet Type</th>\n",
       "      <th>Item Visibility</th>\n",
       "      <th>Item Weight</th>\n",
       "      <th>Sales</th>\n",
       "      <th>Rating</th>\n",
       "    </tr>\n",
       "  </thead>\n",
       "  <tbody>\n",
       "    <tr>\n",
       "      <th>8513</th>\n",
       "      <td>Regular</td>\n",
       "      <td>DRY23</td>\n",
       "      <td>Soft Drinks</td>\n",
       "      <td>1998</td>\n",
       "      <td>OUT027</td>\n",
       "      <td>Tier 3</td>\n",
       "      <td>Medium</td>\n",
       "      <td>Supermarket Type3</td>\n",
       "      <td>0.108568</td>\n",
       "      <td>NaN</td>\n",
       "      <td>42.9112</td>\n",
       "      <td>4.0</td>\n",
       "    </tr>\n",
       "    <tr>\n",
       "      <th>8514</th>\n",
       "      <td>low fat</td>\n",
       "      <td>FDA11</td>\n",
       "      <td>Baking Goods</td>\n",
       "      <td>1998</td>\n",
       "      <td>OUT027</td>\n",
       "      <td>Tier 3</td>\n",
       "      <td>Medium</td>\n",
       "      <td>Supermarket Type3</td>\n",
       "      <td>0.043029</td>\n",
       "      <td>NaN</td>\n",
       "      <td>94.7436</td>\n",
       "      <td>4.0</td>\n",
       "    </tr>\n",
       "    <tr>\n",
       "      <th>8515</th>\n",
       "      <td>low fat</td>\n",
       "      <td>FDK38</td>\n",
       "      <td>Canned</td>\n",
       "      <td>1998</td>\n",
       "      <td>OUT027</td>\n",
       "      <td>Tier 3</td>\n",
       "      <td>Medium</td>\n",
       "      <td>Supermarket Type3</td>\n",
       "      <td>0.053032</td>\n",
       "      <td>NaN</td>\n",
       "      <td>149.1734</td>\n",
       "      <td>4.0</td>\n",
       "    </tr>\n",
       "    <tr>\n",
       "      <th>8516</th>\n",
       "      <td>low fat</td>\n",
       "      <td>FDO38</td>\n",
       "      <td>Canned</td>\n",
       "      <td>1998</td>\n",
       "      <td>OUT027</td>\n",
       "      <td>Tier 3</td>\n",
       "      <td>Medium</td>\n",
       "      <td>Supermarket Type3</td>\n",
       "      <td>0.072486</td>\n",
       "      <td>NaN</td>\n",
       "      <td>78.9986</td>\n",
       "      <td>4.0</td>\n",
       "    </tr>\n",
       "    <tr>\n",
       "      <th>8517</th>\n",
       "      <td>low fat</td>\n",
       "      <td>FDG32</td>\n",
       "      <td>Fruits and Vegetables</td>\n",
       "      <td>1998</td>\n",
       "      <td>OUT027</td>\n",
       "      <td>Tier 3</td>\n",
       "      <td>Medium</td>\n",
       "      <td>Supermarket Type3</td>\n",
       "      <td>0.175143</td>\n",
       "      <td>NaN</td>\n",
       "      <td>222.3772</td>\n",
       "      <td>4.0</td>\n",
       "    </tr>\n",
       "    <tr>\n",
       "      <th>8518</th>\n",
       "      <td>low fat</td>\n",
       "      <td>NCT53</td>\n",
       "      <td>Health and Hygiene</td>\n",
       "      <td>1998</td>\n",
       "      <td>OUT027</td>\n",
       "      <td>Tier 3</td>\n",
       "      <td>Medium</td>\n",
       "      <td>Supermarket Type3</td>\n",
       "      <td>0.000000</td>\n",
       "      <td>NaN</td>\n",
       "      <td>164.5526</td>\n",
       "      <td>4.0</td>\n",
       "    </tr>\n",
       "    <tr>\n",
       "      <th>8519</th>\n",
       "      <td>low fat</td>\n",
       "      <td>FDN09</td>\n",
       "      <td>Snack Foods</td>\n",
       "      <td>1998</td>\n",
       "      <td>OUT027</td>\n",
       "      <td>Tier 3</td>\n",
       "      <td>Medium</td>\n",
       "      <td>Supermarket Type3</td>\n",
       "      <td>0.034706</td>\n",
       "      <td>NaN</td>\n",
       "      <td>241.6828</td>\n",
       "      <td>4.0</td>\n",
       "    </tr>\n",
       "    <tr>\n",
       "      <th>8520</th>\n",
       "      <td>low fat</td>\n",
       "      <td>DRE13</td>\n",
       "      <td>Soft Drinks</td>\n",
       "      <td>1998</td>\n",
       "      <td>OUT027</td>\n",
       "      <td>Tier 3</td>\n",
       "      <td>Medium</td>\n",
       "      <td>Supermarket Type3</td>\n",
       "      <td>0.027571</td>\n",
       "      <td>NaN</td>\n",
       "      <td>86.6198</td>\n",
       "      <td>4.0</td>\n",
       "    </tr>\n",
       "    <tr>\n",
       "      <th>8521</th>\n",
       "      <td>reg</td>\n",
       "      <td>FDT50</td>\n",
       "      <td>Dairy</td>\n",
       "      <td>1998</td>\n",
       "      <td>OUT027</td>\n",
       "      <td>Tier 3</td>\n",
       "      <td>Medium</td>\n",
       "      <td>Supermarket Type3</td>\n",
       "      <td>0.107715</td>\n",
       "      <td>NaN</td>\n",
       "      <td>97.8752</td>\n",
       "      <td>4.0</td>\n",
       "    </tr>\n",
       "    <tr>\n",
       "      <th>8522</th>\n",
       "      <td>reg</td>\n",
       "      <td>FDM58</td>\n",
       "      <td>Snack Foods</td>\n",
       "      <td>1998</td>\n",
       "      <td>OUT027</td>\n",
       "      <td>Tier 3</td>\n",
       "      <td>Medium</td>\n",
       "      <td>Supermarket Type3</td>\n",
       "      <td>0.000000</td>\n",
       "      <td>NaN</td>\n",
       "      <td>112.2544</td>\n",
       "      <td>4.0</td>\n",
       "    </tr>\n",
       "  </tbody>\n",
       "</table>\n",
       "</div>"
      ],
      "text/plain": [
       "     Item Fat Content Item Identifier              Item Type  \\\n",
       "8513          Regular           DRY23            Soft Drinks   \n",
       "8514          low fat           FDA11           Baking Goods   \n",
       "8515          low fat           FDK38                 Canned   \n",
       "8516          low fat           FDO38                 Canned   \n",
       "8517          low fat           FDG32  Fruits and Vegetables   \n",
       "8518          low fat           NCT53     Health and Hygiene   \n",
       "8519          low fat           FDN09            Snack Foods   \n",
       "8520          low fat           DRE13            Soft Drinks   \n",
       "8521              reg           FDT50                  Dairy   \n",
       "8522              reg           FDM58            Snack Foods   \n",
       "\n",
       "      Outlet Establishment Year Outlet Identifier Outlet Location Type  \\\n",
       "8513                       1998            OUT027               Tier 3   \n",
       "8514                       1998            OUT027               Tier 3   \n",
       "8515                       1998            OUT027               Tier 3   \n",
       "8516                       1998            OUT027               Tier 3   \n",
       "8517                       1998            OUT027               Tier 3   \n",
       "8518                       1998            OUT027               Tier 3   \n",
       "8519                       1998            OUT027               Tier 3   \n",
       "8520                       1998            OUT027               Tier 3   \n",
       "8521                       1998            OUT027               Tier 3   \n",
       "8522                       1998            OUT027               Tier 3   \n",
       "\n",
       "     Outlet Size        Outlet Type  Item Visibility  Item Weight     Sales  \\\n",
       "8513      Medium  Supermarket Type3         0.108568          NaN   42.9112   \n",
       "8514      Medium  Supermarket Type3         0.043029          NaN   94.7436   \n",
       "8515      Medium  Supermarket Type3         0.053032          NaN  149.1734   \n",
       "8516      Medium  Supermarket Type3         0.072486          NaN   78.9986   \n",
       "8517      Medium  Supermarket Type3         0.175143          NaN  222.3772   \n",
       "8518      Medium  Supermarket Type3         0.000000          NaN  164.5526   \n",
       "8519      Medium  Supermarket Type3         0.034706          NaN  241.6828   \n",
       "8520      Medium  Supermarket Type3         0.027571          NaN   86.6198   \n",
       "8521      Medium  Supermarket Type3         0.107715          NaN   97.8752   \n",
       "8522      Medium  Supermarket Type3         0.000000          NaN  112.2544   \n",
       "\n",
       "      Rating  \n",
       "8513     4.0  \n",
       "8514     4.0  \n",
       "8515     4.0  \n",
       "8516     4.0  \n",
       "8517     4.0  \n",
       "8518     4.0  \n",
       "8519     4.0  \n",
       "8520     4.0  \n",
       "8521     4.0  \n",
       "8522     4.0  "
      ]
     },
     "execution_count": 21,
     "metadata": {},
     "output_type": "execute_result"
    }
   ],
   "source": [
    "df.tail(10)"
   ]
  },
  {
   "cell_type": "markdown",
   "id": "70e41618-8408-400f-91a6-eca583ead223",
   "metadata": {},
   "source": [
    "#####  **table columns**"
   ]
  },
  {
   "cell_type": "code",
   "execution_count": 23,
   "id": "190283c6-68d3-4dc4-9d6b-101d942dcb4e",
   "metadata": {},
   "outputs": [
    {
     "data": {
      "text/plain": [
       "Index(['Item Fat Content', 'Item Identifier', 'Item Type',\n",
       "       'Outlet Establishment Year', 'Outlet Identifier',\n",
       "       'Outlet Location Type', 'Outlet Size', 'Outlet Type', 'Item Visibility',\n",
       "       'Item Weight', 'Sales', 'Rating'],\n",
       "      dtype='object')"
      ]
     },
     "execution_count": 23,
     "metadata": {},
     "output_type": "execute_result"
    }
   ],
   "source": [
    "df.columns"
   ]
  },
  {
   "cell_type": "markdown",
   "id": "f4e9d2a2-315e-480a-aefb-f750df0c6cfc",
   "metadata": {},
   "source": [
    "#####  **DATA TYPES OF EACH COLUMN FOR FUTHER OPERATIONS**"
   ]
  },
  {
   "cell_type": "code",
   "execution_count": 25,
   "id": "84dabd17-4bca-41ba-a98f-1dd2078c5c3c",
   "metadata": {},
   "outputs": [
    {
     "data": {
      "text/plain": [
       "Item Fat Content              object\n",
       "Item Identifier               object\n",
       "Item Type                     object\n",
       "Outlet Establishment Year      int64\n",
       "Outlet Identifier             object\n",
       "Outlet Location Type          object\n",
       "Outlet Size                   object\n",
       "Outlet Type                   object\n",
       "Item Visibility              float64\n",
       "Item Weight                  float64\n",
       "Sales                        float64\n",
       "Rating                       float64\n",
       "dtype: object"
      ]
     },
     "execution_count": 25,
     "metadata": {},
     "output_type": "execute_result"
    }
   ],
   "source": [
    "df.dtypes"
   ]
  },
  {
   "cell_type": "markdown",
   "id": "f73899ac-dcfa-49b5-9990-fb1589aaf845",
   "metadata": {},
   "source": [
    "# **Data_Cleaning**"
   ]
  },
  {
   "cell_type": "markdown",
   "id": "180e7e14-6d5b-41d5-9c32-a92ebc29e228",
   "metadata": {},
   "source": [
    "#### **1ST Column actual 2 values but there are 5 one are the other same**"
   ]
  },
  {
   "cell_type": "code",
   "execution_count": 28,
   "id": "cd1b3744-583c-431d-8f8f-452d5dedcc6f",
   "metadata": {},
   "outputs": [
    {
     "data": {
      "text/plain": [
       "array(['Regular', 'Low Fat', 'low fat', 'LF', 'reg'], dtype=object)"
      ]
     },
     "execution_count": 28,
     "metadata": {},
     "output_type": "execute_result"
    }
   ],
   "source": [
    "df[\"Item Fat Content\"].unique()"
   ]
  },
  {
   "cell_type": "code",
   "execution_count": 29,
   "id": "85dc4d10-630d-48fb-a8f9-789266a33a21",
   "metadata": {},
   "outputs": [],
   "source": [
    "df[\"1st row clean\"]=df['Item Fat Content'].replace({'low fat':'Low Fat',\n",
    "                               'LF': 'Low Fat',\n",
    "                               'reg':'Regular'})"
   ]
  },
  {
   "cell_type": "code",
   "execution_count": 30,
   "id": "50685767-737f-4e67-a9b0-0ee3b4a00d6f",
   "metadata": {},
   "outputs": [
    {
     "data": {
      "text/plain": [
       "array(['Regular', 'Low Fat'], dtype=object)"
      ]
     },
     "execution_count": 30,
     "metadata": {},
     "output_type": "execute_result"
    }
   ],
   "source": [
    "df['1st row clean'].unique()"
   ]
  },
  {
   "cell_type": "markdown",
   "id": "3e644377-4088-4356-9408-c6cf74b8b688",
   "metadata": {},
   "source": [
    "#### **DATA IS CLEANED FOR FIRST COLUMN (!!UP CELL)**"
   ]
  },
  {
   "cell_type": "markdown",
   "id": "ce7437f2-3f13-4504-bbc6-5fa3a9030bb6",
   "metadata": {},
   "source": [
    "#### **KPI Calculations of Blinkit**"
   ]
  },
  {
   "cell_type": "code",
   "execution_count": 33,
   "id": "02382ef3-b7c3-494e-8069-6ac05f9ab07f",
   "metadata": {},
   "outputs": [
    {
     "name": "stdout",
     "output_type": "stream",
     "text": [
      "the total sales $1,201,681.5\n",
      "total count 8,523.0\n",
      "avg sales $141.0\n",
      "avg rating  4.0\n"
     ]
    }
   ],
   "source": [
    "#kpi's\n",
    "total_sales=df.Sales.sum()\n",
    "total_count=df.Sales.count()\n",
    "Avg_sales=df.Sales.mean()\n",
    "Avg_Ratings = df.Rating.mean()\n",
    "\n",
    "##PRINTING ALL OF THEM\n",
    "print(f\"the total sales ${total_sales:,.1f}\")\n",
    "print(f\"total count {total_count:,.1f}\")\n",
    "print(f\"avg sales ${Avg_sales:,.1f}\")\n",
    "print(f\"avg rating  {Avg_Ratings:,.1f}\")\n"
   ]
  },
  {
   "cell_type": "markdown",
   "id": "3cb2b89b-3e95-4e7c-b6ba-d2cae19eaf20",
   "metadata": {},
   "source": [
    "#### **Gives the unique items in column item type**"
   ]
  },
  {
   "cell_type": "code",
   "execution_count": 53,
   "id": "ae86ec63-6713-492b-a9c6-af3aa1c2c1c7",
   "metadata": {},
   "outputs": [
    {
     "data": {
      "text/plain": [
       "array(['Fruits and Vegetables', 'Health and Hygiene', 'Frozen Foods',\n",
       "       'Canned', 'Soft Drinks', 'Household', 'Snack Foods', 'Meat',\n",
       "       'Breads', 'Hard Drinks', 'Others', 'Dairy', 'Breakfast',\n",
       "       'Baking Goods', 'Seafood', 'Starchy Foods'], dtype=object)"
      ]
     },
     "execution_count": 53,
     "metadata": {},
     "output_type": "execute_result"
    }
   ],
   "source": [
    "df[\"Item Type\"].unique()"
   ]
  },
  {
   "cell_type": "markdown",
   "id": "69c12dcd-b0a8-4dcb-a7d2-2f9d62cf37a6",
   "metadata": {},
   "source": [
    "#### **this line groupsby column : item type and adds sales and even sorts the value descending**"
   ]
  },
  {
   "cell_type": "code",
   "execution_count": 109,
   "id": "0595b89e-0f6b-4723-9d70-f1a26ebc9620",
   "metadata": {},
   "outputs": [],
   "source": [
    "Total_sales_byitem =df.groupby('Item Type')['Sales'].sum().sort_values(ascending=False)"
   ]
  },
  {
   "cell_type": "markdown",
   "id": "d095ff05-9981-4ebb-81f5-e7a37540ebaa",
   "metadata": {},
   "source": [
    "#### **Values of above code**"
   ]
  },
  {
   "cell_type": "code",
   "execution_count": 111,
   "id": "56f9c123-5b0f-4096-81ee-1b6cfaf21fe9",
   "metadata": {},
   "outputs": [
    {
     "data": {
      "text/plain": [
       "Item Type\n",
       "Fruits and Vegetables    178124.0810\n",
       "Snack Foods              175433.9204\n",
       "Household                135976.5254\n",
       "Frozen Foods             118558.8814\n",
       "Dairy                    101276.4596\n",
       "Canned                    90706.7270\n",
       "Baking Goods              81894.7364\n",
       "Health and Hygiene        68025.8388\n",
       "Meat                      59449.8638\n",
       "Soft Drinks               58514.1650\n",
       "Breads                    35379.1198\n",
       "Hard Drinks               29334.6766\n",
       "Others                    22451.8916\n",
       "Starchy Foods             21880.0274\n",
       "Breakfast                 15596.6966\n",
       "Seafood                    9077.8700\n",
       "Name: Sales, dtype: float64"
      ]
     },
     "execution_count": 111,
     "metadata": {},
     "output_type": "execute_result"
    }
   ],
   "source": [
    "Total_sales_byitem"
   ]
  },
  {
   "cell_type": "markdown",
   "id": "1598ad3b-abc0-42bd-b9dc-da5019dc0189",
   "metadata": {},
   "source": [
    "#### **Bar plot of item type to total sales**"
   ]
  },
  {
   "cell_type": "code",
   "execution_count": 117,
   "id": "100b6dee-4a52-46f9-bf38-eab8324da772",
   "metadata": {},
   "outputs": [
    {
     "data": {
      "text/plain": [
       "<Axes: xlabel='Item Type'>"
      ]
     },
     "execution_count": 117,
     "metadata": {},
     "output_type": "execute_result"
    },
    {
     "data": {
      "image/png": "[encoded data removed]",
      "text/plain": [
       "<Figure size 640x480 with 1 Axes>"
      ]
     },
     "metadata": {},
     "output_type": "display_data"
    }
   ],
   "source": [
    "Total_sales_byitem.plot(kind='bar',x='Total_sales_byitem',y='total_sales',legend=False,color='red')"
   ]
  },
  {
   "cell_type": "markdown",
   "id": "4f966d4a-8d5c-4a8f-830f-47f7820d454d",
   "metadata": {},
   "source": [
    "#### **this line groupsby column : fat column and adds sales**"
   ]
  },
  {
   "cell_type": "code",
   "execution_count": 103,
   "id": "0adf2050-ead7-4f0c-9926-a723da19e01b",
   "metadata": {},
   "outputs": [
    {
     "data": {
      "text/plain": [
       "1st row clean\n",
       "Low Fat    776319.6784\n",
       "Regular    425361.8024\n",
       "Name: Sales, dtype: float64"
      ]
     },
     "execution_count": 103,
     "metadata": {},
     "output_type": "execute_result"
    }
   ],
   "source": [
    "Fat_group=df.groupby(\"1st row clean\")[\"Sales\"].sum()\n",
    "Fat_group"
   ]
  },
  {
   "cell_type": "markdown",
   "id": "93fa74be-6aed-4840-8fea-9a66609a473a",
   "metadata": {},
   "source": [
    "#### **pie chart of fat colums to its sales**"
   ]
  },
  {
   "cell_type": "code",
   "execution_count": 107,
   "id": "f4e94f82-c452-435f-9c54-95863cd27861",
   "metadata": {},
   "outputs": [
    {
     "data": {
      "image/png": "[encoded data removed]",
      "text/plain": [
       "<Figure size 640x480 with 1 Axes>"
      ]
     },
     "metadata": {},
     "output_type": "display_data"
    }
   ],
   "source": [
    "plt.pie(Fat_group, labels=Fat_group.index,autopct='%.0f%%',startangle=90)\n",
    "plt.title(\"Total sales by fat\")\n",
    "plt.axis(\"equal\")\n",
    "plt.show()\n",
    "       "
   ]
  },
  {
   "cell_type": "markdown",
   "id": "6fa96e9b-b13e-4cd5-8173-bbade8baa6e3",
   "metadata": {},
   "source": [
    "#### **this line groupsby column : fat column with outlet type and adds sales and even sorts the value asc**"
   ]
  },
  {
   "cell_type": "code",
   "execution_count": 151,
   "id": "be99fcd0-38cc-46ff-808d-266a55023db5",
   "metadata": {},
   "outputs": [
    {
     "data": {
      "text/plain": [
       "1st row clean  Outlet Type      \n",
       "Regular        Supermarket Type2     46633.1654\n",
       "               Supermarket Type3     46940.2636\n",
       "               Grocery Store         52124.7820\n",
       "Low Fat        Supermarket Type3     83774.4110\n",
       "               Supermarket Type2     84844.6070\n",
       "               Grocery Store         99814.3650\n",
       "Regular        Supermarket Type1    279663.5914\n",
       "Low Fat        Supermarket Type1    507886.2954\n",
       "Name: Sales, dtype: float64"
      ]
     },
     "execution_count": 151,
     "metadata": {},
     "output_type": "execute_result"
    }
   ],
   "source": [
    "A=df.groupby([\"1st row clean\",\"Outlet Type\"])[\"Sales\"].sum().sort_values(ascending=True)\n",
    "A"
   ]
  },
  {
   "cell_type": "markdown",
   "id": "2565f265-f888-4f43-ae83-cfcf5cb1507e",
   "metadata": {},
   "source": [
    "#### **this line groupsby column :  outlet location type and adds sales and even sorts the value asc**"
   ]
  },
  {
   "cell_type": "code",
   "execution_count": 147,
   "id": "ac004372-8b79-479c-8e5e-c1d23cbda186",
   "metadata": {},
   "outputs": [
    {
     "data": {
      "text/plain": [
       "Outlet Location Type\n",
       "Tier 1    336397.8120\n",
       "Tier 2    393150.6416\n",
       "Tier 3    472133.0272\n",
       "Name: Sales, dtype: float64"
      ]
     },
     "execution_count": 147,
     "metadata": {},
     "output_type": "execute_result"
    }
   ],
   "source": [
    "B=df.groupby(\"Outlet Location Type\")[\"Sales\"].sum().sort_values(ascending=True)\n",
    "B"
   ]
  },
  {
   "cell_type": "markdown",
   "id": "0c64d217-091c-49ff-a998-84165f19de18",
   "metadata": {},
   "source": [
    "#### **this line groupsby column :  outlet size and adds sales and even sorts the value asc**\n"
   ]
  },
  {
   "cell_type": "code",
   "execution_count": 149,
   "id": "4e3dde36-ad25-4431-98e6-73904f249022",
   "metadata": {},
   "outputs": [
    {
     "data": {
      "text/plain": [
       "Outlet Size\n",
       "High      248991.5840\n",
       "Small     444794.1684\n",
       "Medium    507895.7284\n",
       "Name: Sales, dtype: float64"
      ]
     },
     "execution_count": 149,
     "metadata": {},
     "output_type": "execute_result"
    }
   ],
   "source": [
    "C=df.groupby(\"Outlet Size\")[\"Sales\"].sum().sort_values(ascending=True)\n",
    "C"
   ]
  }
 ],
 "metadata": {
  "kernelspec": {
   "display_name": "Python 3 (ipykernel)",
   "language": "python",
   "name": "python3"
  },
  "language_info": {
   "codemirror_mode": {
    "name": "ipython",
    "version": 3
   },
   "file_extension": ".py",
   "mimetype": "text/x-python",
   "name": "python",
   "nbconvert_exporter": "python",
   "pygments_lexer": "ipython3",
   "version": "3.12.4"
  }
 },
 "nbformat": 4,
 "nbformat_minor": 5
}
