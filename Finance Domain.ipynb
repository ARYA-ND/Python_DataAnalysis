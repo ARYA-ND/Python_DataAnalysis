{
 "cells": [
  {
   "cell_type": "markdown",
   "id": "80d91cb5-7431-44a7-9e4e-716c0c8164f4",
   "metadata": {},
   "source": [
    "# **Fianancial data analysis by python**"
   ]
  },
  {
   "cell_type": "markdown",
   "id": "a3b9d809-2bf0-4faf-9b4a-b92ae0af7573",
   "metadata": {},
   "source": [
    "#### **Importing required librarires**"
   ]
  },
  {
   "cell_type": "code",
   "execution_count": 17,
   "id": "3e01a03c-666b-4922-a466-e4fa3b23da42",
   "metadata": {},
   "outputs": [],
   "source": [
    "import pandas as pd\n",
    "import numpy as np\n",
    "from matplotlib import pyplot as plt\n",
    "import seaborn as sns\n",
    "import warnings\n",
    "import plotly.express as px"
   ]
  },
  {
   "cell_type": "markdown",
   "id": "9d70dc2e-8df3-43f5-b4dc-e0bef1b28655",
   "metadata": {},
   "source": [
    "#### **Loading on the jupyter**"
   ]
  },
  {
   "cell_type": "code",
   "execution_count": 19,
   "id": "89dc6bab-cc03-4cd0-8ee1-707f9fa90de3",
   "metadata": {},
   "outputs": [
    {
     "data": {
      "text/html": [
       "<div>\n",
       "<style scoped>\n",
       "    .dataframe tbody tr th:only-of-type {\n",
       "        vertical-align: middle;\n",
       "    }\n",
       "\n",
       "    .dataframe tbody tr th {\n",
       "        vertical-align: top;\n",
       "    }\n",
       "\n",
       "    .dataframe thead th {\n",
       "        text-align: right;\n",
       "    }\n",
       "</style>\n",
       "<table border=\"1\" class=\"dataframe\">\n",
       "  <thead>\n",
       "    <tr style=\"text-align: right;\">\n",
       "      <th></th>\n",
       "      <th>id</th>\n",
       "      <th>address_state</th>\n",
       "      <th>application_type</th>\n",
       "      <th>emp_length</th>\n",
       "      <th>emp_title</th>\n",
       "      <th>grade</th>\n",
       "      <th>home_ownership</th>\n",
       "      <th>issue_date</th>\n",
       "      <th>last_credit_pull_date</th>\n",
       "      <th>last_payment_date</th>\n",
       "      <th>...</th>\n",
       "      <th>sub_grade</th>\n",
       "      <th>term</th>\n",
       "      <th>verification_status</th>\n",
       "      <th>annual_income</th>\n",
       "      <th>dti</th>\n",
       "      <th>installment</th>\n",
       "      <th>int_rate</th>\n",
       "      <th>loan_amount</th>\n",
       "      <th>total_acc</th>\n",
       "      <th>total_payment</th>\n",
       "    </tr>\n",
       "  </thead>\n",
       "  <tbody>\n",
       "    <tr>\n",
       "      <th>0</th>\n",
       "      <td>1077430</td>\n",
       "      <td>GA</td>\n",
       "      <td>INDIVIDUAL</td>\n",
       "      <td>&lt; 1 year</td>\n",
       "      <td>Ryder</td>\n",
       "      <td>C</td>\n",
       "      <td>RENT</td>\n",
       "      <td>2021-02-11</td>\n",
       "      <td>2021-09-13</td>\n",
       "      <td>2021-04-13</td>\n",
       "      <td>...</td>\n",
       "      <td>C4</td>\n",
       "      <td>60 months</td>\n",
       "      <td>Source Verified</td>\n",
       "      <td>30000.0</td>\n",
       "      <td>0.0100</td>\n",
       "      <td>59.83</td>\n",
       "      <td>0.1527</td>\n",
       "      <td>2500</td>\n",
       "      <td>4</td>\n",
       "      <td>1009</td>\n",
       "    </tr>\n",
       "    <tr>\n",
       "      <th>1</th>\n",
       "      <td>1072053</td>\n",
       "      <td>CA</td>\n",
       "      <td>INDIVIDUAL</td>\n",
       "      <td>9 years</td>\n",
       "      <td>MKC Accounting</td>\n",
       "      <td>E</td>\n",
       "      <td>RENT</td>\n",
       "      <td>2021-01-01</td>\n",
       "      <td>2021-12-14</td>\n",
       "      <td>2021-01-15</td>\n",
       "      <td>...</td>\n",
       "      <td>E1</td>\n",
       "      <td>36 months</td>\n",
       "      <td>Source Verified</td>\n",
       "      <td>48000.0</td>\n",
       "      <td>0.0535</td>\n",
       "      <td>109.43</td>\n",
       "      <td>0.1864</td>\n",
       "      <td>3000</td>\n",
       "      <td>4</td>\n",
       "      <td>3939</td>\n",
       "    </tr>\n",
       "    <tr>\n",
       "      <th>2</th>\n",
       "      <td>1069243</td>\n",
       "      <td>CA</td>\n",
       "      <td>INDIVIDUAL</td>\n",
       "      <td>4 years</td>\n",
       "      <td>Chemat Technology Inc</td>\n",
       "      <td>C</td>\n",
       "      <td>RENT</td>\n",
       "      <td>2021-01-05</td>\n",
       "      <td>2021-12-12</td>\n",
       "      <td>2021-01-09</td>\n",
       "      <td>...</td>\n",
       "      <td>C5</td>\n",
       "      <td>36 months</td>\n",
       "      <td>Not Verified</td>\n",
       "      <td>50000.0</td>\n",
       "      <td>0.2088</td>\n",
       "      <td>421.65</td>\n",
       "      <td>0.1596</td>\n",
       "      <td>12000</td>\n",
       "      <td>11</td>\n",
       "      <td>3522</td>\n",
       "    </tr>\n",
       "    <tr>\n",
       "      <th>3</th>\n",
       "      <td>1041756</td>\n",
       "      <td>TX</td>\n",
       "      <td>INDIVIDUAL</td>\n",
       "      <td>&lt; 1 year</td>\n",
       "      <td>barnes distribution</td>\n",
       "      <td>B</td>\n",
       "      <td>MORTGAGE</td>\n",
       "      <td>2021-02-25</td>\n",
       "      <td>2021-12-12</td>\n",
       "      <td>2021-03-12</td>\n",
       "      <td>...</td>\n",
       "      <td>B2</td>\n",
       "      <td>60 months</td>\n",
       "      <td>Source Verified</td>\n",
       "      <td>42000.0</td>\n",
       "      <td>0.0540</td>\n",
       "      <td>97.06</td>\n",
       "      <td>0.1065</td>\n",
       "      <td>4500</td>\n",
       "      <td>9</td>\n",
       "      <td>4911</td>\n",
       "    </tr>\n",
       "    <tr>\n",
       "      <th>4</th>\n",
       "      <td>1068350</td>\n",
       "      <td>IL</td>\n",
       "      <td>INDIVIDUAL</td>\n",
       "      <td>10+ years</td>\n",
       "      <td>J&amp;J Steel Inc</td>\n",
       "      <td>A</td>\n",
       "      <td>MORTGAGE</td>\n",
       "      <td>2021-01-01</td>\n",
       "      <td>2021-12-14</td>\n",
       "      <td>2021-01-15</td>\n",
       "      <td>...</td>\n",
       "      <td>A1</td>\n",
       "      <td>36 months</td>\n",
       "      <td>Verified</td>\n",
       "      <td>83000.0</td>\n",
       "      <td>0.0231</td>\n",
       "      <td>106.53</td>\n",
       "      <td>0.0603</td>\n",
       "      <td>3500</td>\n",
       "      <td>28</td>\n",
       "      <td>3835</td>\n",
       "    </tr>\n",
       "  </tbody>\n",
       "</table>\n",
       "<p>5 rows × 24 columns</p>\n",
       "</div>"
      ],
      "text/plain": [
       "        id address_state application_type emp_length              emp_title  \\\n",
       "0  1077430            GA       INDIVIDUAL   < 1 year                  Ryder   \n",
       "1  1072053            CA       INDIVIDUAL    9 years         MKC Accounting   \n",
       "2  1069243            CA       INDIVIDUAL    4 years  Chemat Technology Inc   \n",
       "3  1041756            TX       INDIVIDUAL   < 1 year    barnes distribution   \n",
       "4  1068350            IL       INDIVIDUAL  10+ years          J&J Steel Inc   \n",
       "\n",
       "  grade home_ownership issue_date last_credit_pull_date last_payment_date  \\\n",
       "0     C           RENT 2021-02-11            2021-09-13        2021-04-13   \n",
       "1     E           RENT 2021-01-01            2021-12-14        2021-01-15   \n",
       "2     C           RENT 2021-01-05            2021-12-12        2021-01-09   \n",
       "3     B       MORTGAGE 2021-02-25            2021-12-12        2021-03-12   \n",
       "4     A       MORTGAGE 2021-01-01            2021-12-14        2021-01-15   \n",
       "\n",
       "   ... sub_grade        term  verification_status annual_income     dti  \\\n",
       "0  ...        C4   60 months      Source Verified       30000.0  0.0100   \n",
       "1  ...        E1   36 months      Source Verified       48000.0  0.0535   \n",
       "2  ...        C5   36 months         Not Verified       50000.0  0.2088   \n",
       "3  ...        B2   60 months      Source Verified       42000.0  0.0540   \n",
       "4  ...        A1   36 months             Verified       83000.0  0.0231   \n",
       "\n",
       "  installment int_rate  loan_amount  total_acc  total_payment  \n",
       "0       59.83   0.1527         2500          4           1009  \n",
       "1      109.43   0.1864         3000          4           3939  \n",
       "2      421.65   0.1596        12000         11           3522  \n",
       "3       97.06   0.1065         4500          9           4911  \n",
       "4      106.53   0.0603         3500         28           3835  \n",
       "\n",
       "[5 rows x 24 columns]"
      ]
     },
     "execution_count": 19,
     "metadata": {},
     "output_type": "execute_result"
    }
   ],
   "source": [
    "df=pd.read_excel(r\"C:\\Users\\ndary\\Downloads\\code basics\\python\\financial_loan project.xlsx\")\n",
    "df.head()"
   ]
  },
  {
   "cell_type": "markdown",
   "id": "9e658cd1-c80e-4a28-984c-e95327050f17",
   "metadata": {},
   "source": [
    "#### **Looking into its shape**"
   ]
  },
  {
   "cell_type": "code",
   "execution_count": 15,
   "id": "38cf922f-ef0f-4a7c-bd37-e8123982a853",
   "metadata": {},
   "outputs": [
    {
     "data": {
      "text/plain": [
       "(38576, 24)"
      ]
     },
     "execution_count": 15,
     "metadata": {},
     "output_type": "execute_result"
    }
   ],
   "source": [
    "df.shape"
   ]
  },
  {
   "cell_type": "code",
   "execution_count": 21,
   "id": "cc0922b0-4768-4bb6-a10a-43b53948d0d9",
   "metadata": {},
   "outputs": [
    {
     "data": {
      "text/plain": [
       "24"
      ]
     },
     "execution_count": 21,
     "metadata": {},
     "output_type": "execute_result"
    }
   ],
   "source": [
    "df.shape[1]"
   ]
  },
  {
   "cell_type": "markdown",
   "id": "dc03b9f8-e2f8-49ed-972e-16cf72e65364",
   "metadata": {},
   "source": [
    "#### **Getting statistical info for particular columns**"
   ]
  },
  {
   "cell_type": "code",
   "execution_count": 33,
   "id": "63e5d57a-d39d-42dc-95fe-2ade0f2b843d",
   "metadata": {},
   "outputs": [
    {
     "data": {
      "text/plain": [
       "count    38576.000000\n",
       "mean     12263.348533\n",
       "std       9051.104777\n",
       "min         34.000000\n",
       "25%       5633.000000\n",
       "50%      10042.000000\n",
       "75%      16658.000000\n",
       "max      58564.000000\n",
       "Name: total_payment, dtype: float64"
      ]
     },
     "execution_count": 33,
     "metadata": {},
     "output_type": "execute_result"
    }
   ],
   "source": [
    "df.total_payment.describe()\n"
   ]
  },
  {
   "cell_type": "markdown",
   "id": "20492b5c-1185-44ad-9e5f-87dd6f142d63",
   "metadata": {},
   "source": [
    "#### **Knowing the data types of paticular column**"
   ]
  },
  {
   "cell_type": "code",
   "execution_count": 41,
   "id": "2bafd001-4c66-4cd1-ad8c-3bf8df6e448e",
   "metadata": {
    "scrolled": true
   },
   "outputs": [
    {
     "data": {
      "text/plain": [
       "id                                int64\n",
       "address_state                    object\n",
       "application_type                 object\n",
       "emp_length                       object\n",
       "emp_title                        object\n",
       "grade                            object\n",
       "home_ownership                   object\n",
       "issue_date               datetime64[ns]\n",
       "last_credit_pull_date    datetime64[ns]\n",
       "last_payment_date        datetime64[ns]\n",
       "loan_status                      object\n",
       "next_payment_date        datetime64[ns]\n",
       "member_id                         int64\n",
       "purpose                          object\n",
       "sub_grade                        object\n",
       "term                             object\n",
       "verification_status              object\n",
       "annual_income                   float64\n",
       "dti                             float64\n",
       "installment                     float64\n",
       "int_rate                        float64\n",
       "loan_amount                       int64\n",
       "total_acc                         int64\n",
       "total_payment                     int64\n",
       "dtype: object"
      ]
     },
     "execution_count": 41,
     "metadata": {},
     "output_type": "execute_result"
    }
   ],
   "source": [
    "df.dtypes"
   ]
  },
  {
   "cell_type": "markdown",
   "id": "2ac230d5-6742-496b-9444-bea570367f56",
   "metadata": {},
   "source": [
    "#### **Know the column**"
   ]
  },
  {
   "cell_type": "code",
   "execution_count": 50,
   "id": "7f622728-1090-4185-bb11-48fe81acfca8",
   "metadata": {},
   "outputs": [
    {
     "data": {
      "text/plain": [
       "Index(['id', 'address_state', 'application_type', 'emp_length', 'emp_title',\n",
       "       'grade', 'home_ownership', 'issue_date', 'last_credit_pull_date',\n",
       "       'last_payment_date', 'loan_status', 'next_payment_date', 'member_id',\n",
       "       'purpose', 'sub_grade', 'term', 'verification_status', 'annual_income',\n",
       "       'dti', 'installment', 'int_rate', 'loan_amount', 'total_acc',\n",
       "       'total_payment'],\n",
       "      dtype='object')"
      ]
     },
     "execution_count": 50,
     "metadata": {},
     "output_type": "execute_result"
    }
   ],
   "source": [
    "df.columns"
   ]
  },
  {
   "cell_type": "markdown",
   "id": "5ff3cff8-bb20-41f6-8643-5b4bb88a49b0",
   "metadata": {},
   "source": [
    "#### **Total application the bank has issued in min to max time zone**"
   ]
  },
  {
   "cell_type": "code",
   "execution_count": 60,
   "id": "fa045954-fe82-4dcb-97e8-b5c889171629",
   "metadata": {},
   "outputs": [],
   "source": [
    "Total_Loan_Applications=df.id.count()"
   ]
  },
  {
   "cell_type": "markdown",
   "id": "577cc8de-4888-4f6d-9ddc-f546eee82914",
   "metadata": {},
   "source": [
    "#### **when was the latest issue date , in that year, month**"
   ]
  },
  {
   "cell_type": "code",
   "execution_count": 86,
   "id": "6b5ff58e-7341-4998-9605-16c5a7b54e91",
   "metadata": {},
   "outputs": [],
   "source": [
    "Max_Date=df.issue_date.max()"
   ]
  },
  {
   "cell_type": "code",
   "execution_count": 88,
   "id": "91f0326e-0673-4e00-ac2b-13f3169ae5e0",
   "metadata": {},
   "outputs": [],
   "source": [
    "Max_Year=Max_Date.year"
   ]
  },
  {
   "cell_type": "code",
   "execution_count": 90,
   "id": "2d7d5a50-b06d-4577-947a-7f67b77adb3b",
   "metadata": {},
   "outputs": [],
   "source": [
    "Max_Month=Max_Date.month"
   ]
  },
  {
   "cell_type": "markdown",
   "id": "0c5e623f-26b0-4f44-8f14-e0b356a682cb",
   "metadata": {},
   "source": [
    "#### **MTD means first of the month to current date , this line tells total applications in the month of dec from 1st to 12th**"
   ]
  },
  {
   "cell_type": "code",
   "execution_count": 98,
   "id": "cdc5a636-7232-496d-81e6-8701dffde3bf",
   "metadata": {},
   "outputs": [],
   "source": [
    "mtd=df[(df.issue_date.dt.year==Max_Year )& (df.issue_date.dt.month==Max_Month)]"
   ]
  },
  {
   "cell_type": "code",
   "execution_count": 102,
   "id": "26c2db6e-e525-4a00-abf4-0ce8c07f4481",
   "metadata": {},
   "outputs": [
    {
     "data": {
      "text/plain": [
       "16      2021-12-02\n",
       "1962    2021-12-07\n",
       "1943    2021-12-07\n",
       "1939    2021-12-07\n",
       "25072   2021-12-07\n",
       "           ...    \n",
       "21794   2021-12-11\n",
       "21801   2021-12-11\n",
       "6637    2021-12-11\n",
       "13      2021-12-11\n",
       "18      2021-12-12\n",
       "Name: issue_date, Length: 4314, dtype: datetime64[ns]"
      ]
     },
     "execution_count": 102,
     "metadata": {},
     "output_type": "execute_result"
    }
   ],
   "source": [
    "mtd.issue_date.sort_values(ascending=True)"
   ]
  },
  {
   "cell_type": "markdown",
   "id": "995fe96a-ce3f-4c65-ad98-bde1923dd3d6",
   "metadata": {},
   "source": [
    "#### **Count of those applications**"
   ]
  },
  {
   "cell_type": "code",
   "execution_count": 108,
   "id": "fff9f030-edf4-4151-9f97-26e2a010426b",
   "metadata": {},
   "outputs": [
    {
     "data": {
      "text/plain": [
       "4314"
      ]
     },
     "execution_count": 108,
     "metadata": {},
     "output_type": "execute_result"
    }
   ],
   "source": [
    "MTD_total_count=mtd.id.count()\n",
    "MTD_total_count"
   ]
  },
  {
   "cell_type": "code",
   "execution_count": null,
   "id": "75038708-df4f-48be-8296-f7d8e12320e5",
   "metadata": {},
   "outputs": [],
   "source": []
  }
 ],
 "metadata": {
  "kernelspec": {
   "display_name": "Python 3 (ipykernel)",
   "language": "python",
   "name": "python3"
  },
  "language_info": {
   "codemirror_mode": {
    "name": "ipython",
    "version": 3
   },
   "file_extension": ".py",
   "mimetype": "text/x-python",
   "name": "python",
   "nbconvert_exporter": "python",
   "pygments_lexer": "ipython3",
   "version": "3.12.4"
  }
 },
 "nbformat": 4,
 "nbformat_minor": 5
}
